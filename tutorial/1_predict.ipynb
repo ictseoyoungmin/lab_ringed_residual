{
 "cells": [
  {
   "cell_type": "code",
   "execution_count": 1,
   "metadata": {},
   "outputs": [],
   "source": [
    "import sys\n",
    "from pathlib import Path\n",
    "sys.path.append(Path.cwd().parent.__str__())"
   ]
  },
  {
   "cell_type": "markdown",
   "metadata": {},
   "source": [
    "### DRRU-Net Demo\n",
    "- transfer model (backbone pre-train)\n",
    "- non-transfer model"
   ]
  },
  {
   "cell_type": "code",
   "execution_count": 7,
   "metadata": {},
   "outputs": [],
   "source": [
    "import os\n",
    "import torch\n",
    "import matplotlib.pyplot as plt\n",
    "import numpy as np\n",
    "\n",
    "import torch.nn.functional as F\n",
    "from model.unet_model import Ringed_Res_Unet,DCT_RRUnet \n",
    "from dataset.Defacto import * # defacto 데이터셋 한정 테스트 모듈\n",
    "from loss.dice_loss import SoftDiceLoss\n",
    "from predict import test_dataset_dice"
   ]
  },
  {
   "cell_type": "code",
   "execution_count": 6,
   "metadata": {},
   "outputs": [],
   "source": [
    "# data configs\n",
    "MODE = 'te1st' # 'any' : no purmute , no normalize / 'test' same 'train' condition\n",
    "IMG_SIZE = 512\n",
    "INDEX =  631 # 654 1333,sp,cp / 333cp / casia2312\n",
    "DIR_IMGS = {\n",
    "        \"defacto_splicing_test\":r\"F:\\datasets\\Defacto_splicing\\splicing_3_img\\img_jpg\",\n",
    "        \"defactor_copy_move\":r\"F:\\datasets\\defacto_copy_move\\copymove_img\\img_jpg\",\n",
    "        \"casia\":r\"F:\\datasets\\CASIA2.0\\Tp_jpg\"\n",
    "        }\n",
    "DT = \"defacto_splicing_test\"\n",
    "DIR_IMG = DIR_IMGS[DT]\n",
    "DIR_MASKS = {\n",
    "    \"defacto_splicing_test\":r\"F:\\datasets\\Defacto_splicing\\splicing_3_annotations\\probe_mask\",\n",
    "    \"defactor_copy_move\":r\"F:\\datasets\\defacto_copy_move\\copymove_annotations\\probe_mask\",\n",
    "    \"casia\":r\"F:\\datasets\\CASIA2.0\\Groundtruth_jpg\"\n",
    "    }\n",
    "DIR_MASK = DIR_MASKS[DT]"
   ]
  },
  {
   "cell_type": "code",
   "execution_count": 5,
   "metadata": {},
   "outputs": [
    {
     "data": {
      "text/plain": [
       "<All keys matched successfully>"
      ]
     },
     "execution_count": 5,
     "metadata": {},
     "output_type": "execute_result"
    }
   ],
   "source": [
    "# model load\n",
    "model_folder = '../result/logs/defactor/DCT_RRUnet_nonfreeze_1/'\n",
    "model_name = 'DCT-[val_dice]-0.9039-[train_loss]-0.0907-ep6.pkl'\n",
    "\n",
    "dct_rrunet_ori = DCT_RRUnet(mode='ori').cpu()\n",
    "dct_rrunet_ori.load_state_dict(torch.load(os.path.join(model_folder,model_name))) \n"
   ]
  },
  {
   "cell_type": "code",
   "execution_count": 8,
   "metadata": {},
   "outputs": [],
   "source": [
    "# utills \n",
    "\n",
    "def get_confusion_matrix(label, pred, size, num_class, ignore=-1):\n",
    "    \"\"\"\n",
    "    Calcute the confusion matrix by given label and pred\n",
    "    \"\"\"\n",
    "    output = (pred.squeeze(0).cpu().numpy() > 0.5).astype(np.int32)\n",
    "    seg_pred = np.asarray(output[:, :size[-2], :size[-1]], dtype=np.int32)\n",
    "    seg_gt = np.asarray(\n",
    "    label.cpu().numpy()[:, :size[-2], :size[-1]], dtype=np.int32)\n",
    "    ignore_index = seg_gt != ignore\n",
    "    seg_gt = seg_gt[ignore_index]\n",
    "    seg_pred = seg_pred[ignore_index]\n",
    "    index = (seg_gt * num_class + seg_pred).astype('int32')\n",
    "    label_count = np.bincount(index)\n",
    "    cm = np.zeros((num_class, num_class))\n",
    "\n",
    "    for i_label in range(num_class):\n",
    "        for i_pred in range(num_class):\n",
    "            cur_index = i_label * num_class + i_pred\n",
    "            if cur_index < len(label_count):\n",
    "                cm[i_label,i_pred] = label_count[cur_index]\n",
    "    return cm\n",
    "\n",
    "def dice_coeff_loss_2(pred, target):\n",
    "    smooth = 1e-7\n",
    "    h,w=512,512\n",
    "    img = target.cpu().numpy()\n",
    "    for i in range(len(img)-1,0,-1):\n",
    "        if img[0,i]!=-1.:\n",
    "            w = i  \n",
    "            break\n",
    "    for i in range(len(img)-1,0,-1):\n",
    "        if img[i,0]!=-1.:\n",
    "            h = i  \n",
    "            break\n",
    "    pred = (pred[:h,:w] >0.5).float()\n",
    "    target = (target[:h,:w] > 0.5).float()\n",
    "    num = pred.size(0)\n",
    "    m1 = pred.view(num, -1)  # Flatten\n",
    "    m2 = target.view(num, -1)  # Flatten\n",
    "    intersection = (m1 * m2).sum()\n",
    "\n",
    "    return (2. * intersection) / (m1.sum() + m2.sum() + smooth)\n",
    "\n",
    "def plot_result(model,name,idx):\n",
    "    device = torch.device(\"cuda:0\")\n",
    "    if name in \"DCT_RRUnet\":\n",
    "        pred,img,mask = test_dct(model,device,idx,MODE,IMG_SIZE,DIR_IMG,DIR_MASK)\n",
    "    else:\n",
    "        pred,img,mask = test(model,device,idx,MODE,IMG_SIZE,DIR_IMG,DIR_MASK)\n",
    "       \n",
    "    pred = F.sigmoid(pred)\n",
    "    label = mask.squeeze(0)\n",
    "    pred = torch.squeeze(pred, 0)\n",
    "    pred = pred.squeeze(0)\n",
    "    dice_coef = dice_coeff_loss_2(pred,(mask.to(device) > 0.5).float()) \n",
    "    print(\"dice coff : \",dice_coef)\n",
    "    pred_ = pred.to('cpu').detach().numpy()\n",
    "\n",
    "    \n",
    "    pred_ = pred_[:img.shape[0],:img.shape[1]]\n",
    "    mask = mask[:img.shape[0],:img.shape[1]]\n",
    "\n",
    "    plt.figure(figsize=(10,2))\n",
    "    plt.subplot(141)\n",
    "    plt.imshow(img)\n",
    "    plt.title('Input')\n",
    "    plt.axis('off')\n",
    "\n",
    "    plt.subplot(142)\n",
    "    plt.imshow(torch.relu(mask))\n",
    "    plt.title('Ground Truth')\n",
    "    plt.axis('off')\n",
    "\n",
    "    plt.subplot(143)\n",
    "    plt.imshow(pred_>0.5)#,cmap='jet',interpolation='nearest')\n",
    "    plt.title('Predict')\n",
    "    plt.axis('off')\n",
    "\n",
    "    plt.subplot(144)\n",
    "    plt.imshow(img)\n",
    "    plt.imshow(pred_ ,alpha=0.6,cmap='jet')\n",
    "    plt.title('Heatmap')\n",
    "    \n",
    "    plt.axis('off')\n",
    "    plt.show()\n"
   ]
  },
  {
   "cell_type": "code",
   "execution_count": null,
   "metadata": {},
   "outputs": [],
   "source": [
    "plot_result(dct_rrunet_ori.cuda(),'DCT_RRUnet', idx=INDEX)\n"
   ]
  }
 ],
 "metadata": {
  "kernelspec": {
   "display_name": "torch",
   "language": "python",
   "name": "python3"
  },
  "language_info": {
   "codemirror_mode": {
    "name": "ipython",
    "version": 3
   },
   "file_extension": ".py",
   "mimetype": "text/x-python",
   "name": "python",
   "nbconvert_exporter": "python",
   "pygments_lexer": "ipython3",
   "version": "3.11.4"
  }
 },
 "nbformat": 4,
 "nbformat_minor": 2
}
